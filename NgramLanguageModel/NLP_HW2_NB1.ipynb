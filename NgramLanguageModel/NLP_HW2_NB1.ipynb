{
 "cells": [
  {
   "cell_type": "code",
   "execution_count": 1,
   "id": "b4f6f427-ba0a-4f1d-821a-18c49023e387",
   "metadata": {},
   "outputs": [
    {
     "name": "stderr",
     "output_type": "stream",
     "text": [
      "/usr/lib/python3/dist-packages/scipy/__init__.py:146: UserWarning: A NumPy version >=1.17.3 and <1.25.0 is required for this version of SciPy (detected version 1.26.3\n",
      "  warnings.warn(f\"A NumPy version >={np_minversion} and <{np_maxversion}\"\n"
     ]
    }
   ],
   "source": [
    "from nltk import word_tokenize\n",
    "from nltk.util import ngrams\n",
    "import pickle\n",
    "from collections import Counter"
   ]
  },
  {
   "cell_type": "code",
   "execution_count": 2,
   "id": "fb925789-5586-45ac-9675-a1a91f15bb64",
   "metadata": {},
   "outputs": [],
   "source": [
    "def dict_of_counts(filename):\n",
    "    \n",
    "    # Reading the file and removing newlines\n",
    "    with open(filename, 'r', encoding='utf-8') as file:\n",
    "        text = file.read().replace('\\n', ' ')\n",
    "\n",
    "    # Tokenize\n",
    "    tokens = word_tokenize(text)\n",
    "\n",
    "    # Creating a unigrams list\n",
    "    unigrams = ngrams(tokens, 1)\n",
    "\n",
    "    # Creating a bigrams list\n",
    "    bigrams = ngrams(tokens, 2)\n",
    "\n",
    "    # Creating a Unigram dictionary of Unigrams and counts\n",
    "    unigram_dict = Counter(unigrams)\n",
    "\n",
    "    # Creating a bigram dictionary of bigrams and counts\n",
    "    bigram_dict = Counter(bigrams)\n",
    "\n",
    "    # Returning both the unigram & bigram dictionary\n",
    "    return unigram_dict, bigram_dict"
   ]
  },
  {
   "cell_type": "code",
   "execution_count": 3,
   "id": "b0dc3d1a-edea-41f3-853a-3683324ff04a",
   "metadata": {},
   "outputs": [],
   "source": [
    "# Calling the function 3 times\n",
    "\n",
    "languages = ['English', 'French', 'Italian']\n",
    "for lang in languages:\n",
    "    unigram_counts, bigram_counts = dict_of_counts(f'data/data/LangId.train.{lang}.txt')\n",
    "    with open(f'unigram_{lang}_dict.pkl', 'wb') as file:\n",
    "        pickle.dump(unigram_counts, file)\n",
    "    with open(f'bigram_{lang}_dict.pkl', 'wb') as file:\n",
    "        pickle.dump(bigram_counts, file)"
   ]
  }
 ],
 "metadata": {
  "kernelspec": {
   "display_name": "Python 3 (ipykernel)",
   "language": "python",
   "name": "python3"
  },
  "language_info": {
   "codemirror_mode": {
    "name": "ipython",
    "version": 3
   },
   "file_extension": ".py",
   "mimetype": "text/x-python",
   "name": "python",
   "nbconvert_exporter": "python",
   "pygments_lexer": "ipython3",
   "version": "3.10.12"
  }
 },
 "nbformat": 4,
 "nbformat_minor": 5
}
