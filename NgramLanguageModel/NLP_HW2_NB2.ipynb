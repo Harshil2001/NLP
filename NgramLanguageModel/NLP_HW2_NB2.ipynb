{
 "cells": [
  {
   "cell_type": "code",
   "execution_count": 1,
   "id": "cf5a43f8-02ef-48ba-b899-9a8c940ed37d",
   "metadata": {},
   "outputs": [
    {
     "name": "stderr",
     "output_type": "stream",
     "text": [
      "/usr/lib/python3/dist-packages/scipy/__init__.py:146: UserWarning: A NumPy version >=1.17.3 and <1.25.0 is required for this version of SciPy (detected version 1.26.3\n",
      "  warnings.warn(f\"A NumPy version >={np_minversion} and <{np_maxversion}\"\n"
     ]
    }
   ],
   "source": [
    "import pickle\n",
    "from nltk import word_tokenize\n",
    "from nltk.util import ngrams"
   ]
  },
  {
   "cell_type": "code",
   "execution_count": 4,
   "id": "f9e74522-19ca-4827-b674-d3ed156bab44",
   "metadata": {},
   "outputs": [],
   "source": [
    "# Read the pickled dictionaries and store each language dict in unigram_dicts[lang] and bigram_dicts[lang]\n",
    "unigram_dicts = {}\n",
    "bigram_dicts = {}\n",
    "languages = ['English', 'French', 'Italian']\n",
    "V = 0    # vocabulary size\n",
    "\n",
    "for lang in languages:\n",
    "    with open(f'unigram_{lang}_dict.pkl', 'rb') as file:\n",
    "        unigram_dicts[lang] = pickle.load(file)\n",
    "        V += len(unigram_dicts[lang])\n",
    "    with open(f'bigram_{lang}_dict.pkl', 'rb') as file:\n",
    "        bigram_dicts[lang] = pickle.load(file)"
   ]
  },
  {
   "cell_type": "code",
   "execution_count": 8,
   "id": "64c53272-2835-4237-8398-21ae9655b9c1",
   "metadata": {},
   "outputs": [],
   "source": [
    "# For each line in test file, calculating probability for each language and writing the language with the highest probability\n",
    "def calculate_language_probability(sentence, unigram_dicts, bigram_dicts, V):\n",
    "    tokens = word_tokenize(sentence)\n",
    "    bigrams = list(ngrams(tokens, 2))\n",
    "    probabilities = {}\n",
    "    for lang in unigram_dicts.keys():\n",
    "        probabilities[lang] = 1\n",
    "        for bigram in bigrams:\n",
    "            b = bigram_dicts[lang][bigram] if bigram in bigram_dicts[lang] else 0\n",
    "            u = unigram_dicts[lang][bigram[0]] if bigram[0] in unigram_dicts[lang] else 0\n",
    "            probabilities[lang] *= (b + 1) / (u + V)    # Probability using simple laplace smoothing\n",
    "            \n",
    "    return max(probabilities, key=probabilities.get)"
   ]
  },
  {
   "cell_type": "code",
   "execution_count": 18,
   "id": "3ab3d1ee-85a4-40b8-9c45-73550313a11c",
   "metadata": {},
   "outputs": [],
   "source": [
    "test_filename = f'data/data/LangId.test.txt'\n",
    "\n",
    "# Reading test file\n",
    "with open(test_filename, 'r') as file:\n",
    "    test_data = file.readlines()\n",
    "\n",
    "# opening output_file to write predicted languages into\n",
    "with open(f'LangId.predict.txt', 'w', encoding='utf-8') as file:\n",
    "    for idx, sentence in enumerate(test_data):\n",
    "        predicted_lang = calculate_language_probability(sentence.strip(), unigram_dicts, bigram_dicts, V)\n",
    "        file.write(f'{idx+1} {predicted_lang} \\n')"
   ]
  },
  {
   "cell_type": "code",
   "execution_count": 19,
   "id": "001e012c-2104-4f4b-9f4a-271cc3eef224",
   "metadata": {},
   "outputs": [],
   "source": [
    "# File paths\n",
    "file1_path = f'LangId.predict.txt'\n",
    "file2_path = f'data/data/LangId.sol.txt'\n",
    "\n",
    "incorrect_lines = []\n",
    "correct_count = 0\n",
    "total_lines = 0\n",
    "\n",
    "# Computing the accuracy\n",
    "with open(file1_path, 'r', encoding='utf-8') as file1, open(file2_path, 'r', encoding='utf-8') as file2:\n",
    "    for line_num, (line1, line2) in enumerate(zip(file1, file2), start=1):\n",
    "        if line1.strip() != line2.strip():\n",
    "            incorrect_lines.append(line_num)\n",
    "        else:\n",
    "            correct_count += 1\n",
    "        total_lines += 1\n",
    "\n",
    "accuracy = (correct_count / total_lines) * 100"
   ]
  },
  {
   "cell_type": "code",
   "execution_count": 20,
   "id": "9fd63456-0f6e-413a-84c9-43b7ba27278f",
   "metadata": {},
   "outputs": [
    {
     "name": "stdout",
     "output_type": "stream",
     "text": [
      "Accuracy: 97.66666666666667\n",
      "Incorrectly classified lines: [24, 44, 187, 191, 247, 277, 279]\n"
     ]
    }
   ],
   "source": [
    "print(\"Accuracy:\", accuracy)\n",
    "print(\"Incorrectly classified lines:\", incorrect_lines)"
   ]
  }
 ],
 "metadata": {
  "kernelspec": {
   "display_name": "Python 3 (ipykernel)",
   "language": "python",
   "name": "python3"
  },
  "language_info": {
   "codemirror_mode": {
    "name": "ipython",
    "version": 3
   },
   "file_extension": ".py",
   "mimetype": "text/x-python",
   "name": "python",
   "nbconvert_exporter": "python",
   "pygments_lexer": "ipython3",
   "version": "3.10.12"
  }
 },
 "nbformat": 4,
 "nbformat_minor": 5
}
