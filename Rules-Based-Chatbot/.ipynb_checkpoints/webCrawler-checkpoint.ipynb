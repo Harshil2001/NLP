{
 "cells": [
  {
   "cell_type": "code",
   "execution_count": 108,
   "id": "5a76e0db-b2e8-42a9-ab95-e771b48b3ed6",
   "metadata": {},
   "outputs": [],
   "source": [
    "import requests\n",
    "import urllib.request\n",
    "from urllib.parse import urljoin\n",
    "from bs4 import BeautifulSoup\n",
    "import re\n",
    "import collections\n",
    "import os"
   ]
  },
  {
   "cell_type": "code",
   "execution_count": 109,
   "id": "af0754ab-2d15-43b0-835f-c5690aea677d",
   "metadata": {},
   "outputs": [],
   "source": [
    "# Function to crawl for relevant URLs\n",
    "def crawl_for_urls(starting_urls, max_urls=40):\n",
    "    visited_urls = set()\n",
    "    relevant_urls = collections.deque(starting_urls)\n",
    "    while relevant_urls and len(visited_urls) < max_urls:\n",
    "        url = relevant_urls.popleft()\n",
    "        if url not in visited_urls:\n",
    "            try:\n",
    "                response = requests.get(url)\n",
    "                if response.status_code == 200:\n",
    "                    visited_urls.add(url)\n",
    "                    soup = BeautifulSoup(response.text, 'html.parser')\n",
    "                    eachPageCounter = 0\n",
    "                    for link in soup.find_all('a', href=True):\n",
    "                        if eachPageCounter > 10:\n",
    "                            break\n",
    "                        # if 'spice' in link or 'Spice' in link or 'indian' in link or 'Indian' in link:\n",
    "                        if 'hindi' in link or 'Hindi' in link or 'bollywoood' in link or 'Bollywood' in link:\n",
    "                            abs_url = urljoin(url, link['href'])\n",
    "                            if abs_url.startswith(\"http\") and abs_url not in visited_urls and abs_url not in relevant_urls:\n",
    "                                relevant_urls.append(abs_url)\n",
    "                                eachPageCounter += 1\n",
    "            except Exception as e:\n",
    "                print(f\"Error crawling {url}: {e}\")\n",
    "    return visited_urls"
   ]
  },
  {
   "cell_type": "code",
   "execution_count": 110,
   "id": "8897432c-d376-4e67-9df0-f823289f3e8a",
   "metadata": {},
   "outputs": [],
   "source": [
    "# Starting URLs for crawling\n",
    "starting_urls = [\n",
    "    # 'https://en.wikipedia.org/wiki/Indian_cuisine',\n",
    "    # 'https://www.masterindian.com/blogs/master-indian-spice-blog/24-top-indian-spices-and-how-to-use-them',\n",
    "    # 'https://en.wikipedia.org/wiki/List_of_Indian_spices',\n",
    "    # 'https://badshahmasala.com/blogs/indian-spices-list/',\n",
    "    # 'https://www.wellcurve.in/blog/types-of-spices/'\n",
    "    'https://en.wikipedia.org/wiki/Hindi_cinema',\n",
    "    'https://www.timeout.com/film/the-100-best-bollywood-movies-the-list',\n",
    "    'https://www.bollycurves.com/resources/what-is-bollywood'\n",
    "]"
   ]
  },
  {
   "cell_type": "code",
   "execution_count": 111,
   "id": "324cc8a9-7559-4b20-8c33-585b96757e02",
   "metadata": {},
   "outputs": [],
   "source": [
    "# Crawl for relevant URLs\n",
    "relevant_urls = crawl_for_urls(starting_urls)"
   ]
  },
  {
   "cell_type": "code",
   "execution_count": 106,
   "id": "7cea8389-6005-4563-9de4-15c91d77395f",
   "metadata": {},
   "outputs": [],
   "source": [
    "# Function to scrape text from each page\n",
    "def scrape_text(urls):\n",
    "    text_data = collections.defaultdict(str)\n",
    "    for i, url in enumerate(urls):\n",
    "        try:\n",
    "            response = requests.get(url)\n",
    "            if response.status_code == 200:\n",
    "                soup = BeautifulSoup(response.text, 'html.parser')\n",
    "                # text_data[url] = soup.get_text()\n",
    "                # text_data[url] = soup.findAll(text=True)\n",
    "                paras = soup.select('p')\n",
    "                text = ''\n",
    "                for p in paras:\n",
    "                    text += p.get_text() + '\\n'\n",
    "\n",
    "                # Write text to a text file\n",
    "                filename = f\"page{i+1}.txt\"\n",
    "                filepath = os.path.join(filename)\n",
    "                with open(filepath, 'w', encoding='utf-8') as f:\n",
    "                    f.write(text)\n",
    "                    text_data[url] = filepath\n",
    "                    \n",
    "        except Exception as e:\n",
    "            print(f\"Error scraping {url}: {e}\")\n",
    "    return text_data"
   ]
  },
  {
   "cell_type": "code",
   "execution_count": 107,
   "id": "d3c82e6e-c359-44de-af00-938119d669e9",
   "metadata": {},
   "outputs": [],
   "source": [
    "# Scrape text from each page\n",
    "text_data = scrape_text(relevant_urls)"
   ]
  }
 ],
 "metadata": {
  "kernelspec": {
   "display_name": "Python 3 (ipykernel)",
   "language": "python",
   "name": "python3"
  },
  "language_info": {
   "codemirror_mode": {
    "name": "ipython",
    "version": 3
   },
   "file_extension": ".py",
   "mimetype": "text/x-python",
   "name": "python",
   "nbconvert_exporter": "python",
   "pygments_lexer": "ipython3",
   "version": "3.10.12"
  }
 },
 "nbformat": 4,
 "nbformat_minor": 5
}
